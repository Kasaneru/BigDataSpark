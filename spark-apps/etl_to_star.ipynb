{
  "cells": [
    {
      "cell_type": "code",
      "metadata": {
        "jukit_cell_id": "bjWPpzcte2"
      },
      "source": [
        "from pyspark.sql import SparkSession\n",
        "from pyspark.sql import functions as F"
      ],
      "outputs": [],
      "execution_count": null
    },
    {
      "cell_type": "code",
      "metadata": {
        "jukit_cell_id": "QjP5RF5qhc"
      },
      "source": [
        "spark = SparkSession.builder \\\n",
        "    .appName(\"ETL to Star Schema\") \\\n",
        "    .config(\"spark.jars\", \"/home/jovyan/jars/postgresql-42.7.3.jar\") \\\n",
        "    .getOrCreate()"
      ],
      "outputs": [],
      "execution_count": null
    },
    {
      "cell_type": "code",
      "metadata": {
        "jukit_cell_id": "PUApwSbP18"
      },
      "source": [
        "jdbc_url = \"jdbc:postgresql://bigdata_postgres:5432/postgres\"\n",
        "connection_properties = {\n",
        "    \"user\": \"bd_user\",\n",
        "    \"password\": \"bd_pass\",\n",
        "    \"driver\": \"org.postgresql.Driver\"\n",
        "}\n",
        "\n",
        "df = spark.read.jdbc(\n",
        "        url=jdbc_url,\n",
        "        table=\"mock_data\",\n",
        "        properties=connection_properties\n",
        "    )\n",
        "\n",
        "df = df.withColumn(\"sale_id\", F.monotonically_increasing_id())"
      ],
      "outputs": [],
      "execution_count": null
    },
    {
      "cell_type": "code",
      "metadata": {
        "jukit_cell_id": "tqIw7VbKUM"
      },
      "source": [
        "dim_customer = df.groupBy(\"sale_customer_id\").agg(\n",
        "        F.first(\"customer_first_name\").alias(\"customer_first_name\"),\n",
        "        F.first(\"customer_last_name\").alias(\"customer_last_name\"),\n",
        "        F.first(\"customer_age\").alias(\"customer_age\"),\n",
        "        F.first(\"customer_email\").alias(\"customer_email\"),\n",
        "        F.first(\"customer_country\").alias(\"customer_country\"),\n",
        "        F.first(\"customer_postal_code\").alias(\"customer_postal_code\"),\n",
        "        F.first(\"customer_pet_type\").alias(\"customer_pet_type\"),\n",
        "        F.first(\"customer_pet_name\").alias(\"customer_pet_name\"),\n",
        "        F.first(\"customer_pet_breed\").alias(\"customer_pet_breed\")\n",
        "    ).withColumnRenamed(\"sale_customer_id\", \"customer_id\")"
      ],
      "outputs": [],
      "execution_count": null
    },
    {
      "cell_type": "code",
      "metadata": {
        "jukit_cell_id": "uC4boIEZSG"
      },
      "source": [
        "dim_customer.show(n=5, truncate=False)"
      ],
      "outputs": [
        {
          "name": "stdout",
          "output_type": "stream",
          "text": [
            "+-----------+-------------------+------------------+------------+------------------------+----------------+--------------------+-----------------+-----------------+------------------+\n",
            "|customer_id|customer_first_name|customer_last_name|customer_age|customer_email          |customer_country|customer_postal_code|customer_pet_type|customer_pet_name|customer_pet_breed|\n",
            "+-----------+-------------------+------------------+------------+------------------------+----------------+--------------------+-----------------+-----------------+------------------+\n",
            "|1          |Barron             |Rawlyns           |61          |bmassingham0@army.mil   |China           |NULL                |cat              |Priscella        |Labrador Retriever|\n",
            "|2          |Ham                |Knowller          |78          |cscudder1@time.com      |Poland          |73-115              |bird             |Dalenna          |Labrador Retriever|\n",
            "|3          |Farleigh           |Langley           |71          |vhuxter2@fotki.com      |Poland          |56-160              |bird             |Aldridge         |Parakeet          |\n",
            "|4          |Shae               |Debling           |28          |bbullier3@bravesites.com|Sri Lanka       |81700               |cat              |Beverie          |Labrador Retriever|\n",
            "|5          |Lay                |Twatt             |25          |sedgar4@smugmug.com     |Botswana        |NULL                |bird             |Sydelle          |Siamese           |\n",
            "+-----------+-------------------+------------------+------------+------------------------+----------------+--------------------+-----------------+-----------------+------------------+\n",
            "only showing top 5 rows\n",
            "\n"
          ]
        }
      ],
      "execution_count": 1
    },
    {
      "cell_type": "code",
      "metadata": {
        "jukit_cell_id": "CiojCok3Wd"
      },
      "source": [
        "dim_product = df.groupBy(\"sale_product_id\").agg(\n",
        "        F.first(\"product_name\").alias(\"product_name\"),\n",
        "        F.first(\"product_category\").alias(\"product_category\"),\n",
        "        F.first(\"product_price\").alias(\"product_price\"),\n",
        "        F.first(\"product_weight\").alias(\"product_weight\"),\n",
        "        F.first(\"product_color\").alias(\"product_color\"),\n",
        "        F.first(\"product_size\").alias(\"product_size\"),\n",
        "        F.first(\"product_brand\").alias(\"product_brand\"),\n",
        "        F.first(\"product_material\").alias(\"product_material\"),\n",
        "        F.first(\"product_description\").alias(\"product_description\"),\n",
        "        F.first(\"product_rating\").alias(\"product_rating\"),\n",
        "        F.first(\"product_reviews\").alias(\"product_reviews\"),\n",
        "        F.first(\"product_release_date\").alias(\"product_release_date\"),\n",
        "        F.first(\"product_expiry_date\").alias(\"product_expiry_date\")\n",
        "    ).withColumnRenamed(\"sale_product_id\", \"product_id\")"
      ],
      "outputs": [],
      "execution_count": null
    },
    {
      "cell_type": "code",
      "metadata": {
        "jukit_cell_id": "3ph3JETeVv"
      },
      "source": [
        "dim_product.show(n=5, truncate=False)"
      ],
      "outputs": [
        {
          "name": "stdout",
          "output_type": "stream",
          "text": [
            "+----------+------------+----------------+---------------------+---------------------+-------------+------------+-------------+----------------+--------------------------------------------------------------------------------------------------------------------------------------------------------------------------------------------------------------------------------------------------------------------------------------------------------------------------------------------------------------------------------------------------------------------------------------------------------------------------------------+--------------------+---------------+--------------------+-------------------+\n",
            "|product_id|product_name|product_category|product_price        |product_weight       |product_color|product_size|product_brand|product_material|product_description                                                                                                                                                                                                                                                                                                                                                                                                                                                                   |product_rating      |product_reviews|product_release_date|product_expiry_date|\n",
            "+----------+------------+----------------+---------------------+---------------------+-------------+------------+-------------+----------------+--------------------------------------------------------------------------------------------------------------------------------------------------------------------------------------------------------------------------------------------------------------------------------------------------------------------------------------------------------------------------------------------------------------------------------------------------------------------------------------+--------------------+---------------+--------------------+-------------------+\n",
            "|1         |Dog Food    |Food            |77.970000000000000000|13.400000000000000000|Indigo       |Medium      |Skajo        |Steel           |Aliquam quis turpis eget elit sodales scelerisque. Mauris sit amet eros. Suspendisse accumsan tortor quis turpis.\\n\\nSed ante. Vivamus tortor. Duis mattis egestas metus.                                                                                                                                                                                                                                                                                                             |2.100000000000000000|97             |2011-10-19          |2028-10-21         |\n",
            "|2         |Cat Toy     |Food            |48.700000000000000000|36.300000000000000000|Khaki        |Small       |Wordpedia    |Plexiglass      |Phasellus in felis. Donec semper sapien a libero. Nam dui.                                                                                                                                                                                                                                                                                                                                                                                                                            |2.400000000000000000|37             |2019-04-17          |2028-02-29         |\n",
            "|3         |Bird Cage   |Food            |77.750000000000000000|14.600000000000000000|Khaki        |Medium      |Riffpedia    |Plexiglass      |Maecenas leo odio, condimentum id, luctus nec, molestie sed, justo. Pellentesque viverra pede ac diam. Cras pellentesque volutpat dui.\\n\\nMaecenas tristique, est et tempus semper, est quam pharetra magna, ac consequat metus sapien ut nunc. Vestibulum ante ipsum primis in faucibus orci luctus et ultrices posuere cubilia Curae; Mauris viverra diam vitae quam. Suspendisse potenti.\\n\\nNullam porttitor lacus at turpis. Donec posuere metus vitae ipsum. Aliquam non mauris.|3.000000000000000000|218            |2010-02-03          |2023-09-03         |\n",
            "+----------+------------+----------------+---------------------+---------------------+-------------+------------+-------------+----------------+--------------------------------------------------------------------------------------------------------------------------------------------------------------------------------------------------------------------------------------------------------------------------------------------------------------------------------------------------------------------------------------------------------------------------------------------------------------------------------------+--------------------+---------------+--------------------+-------------------+\n",
            "only showing top 3 rows\n",
            "\n"
          ]
        }
      ],
      "execution_count": 2
    },
    {
      "cell_type": "code",
      "metadata": {
        "jukit_cell_id": "ZX5bfCSJLQ"
      },
      "source": [
        "dim_time = df.select(\n",
        "        F.col(\"sale_date\").alias(\"date\")\n",
        "    ).distinct().withColumn(\"time_id\", F.monotonically_increasing_id())\n",
        "\n",
        "dim_time = dim_time.withColumn(\"year\", F.year(\"date\")).withColumn(\"month\", F.month(\"date\")).withColumn(\"day\", F.dayofmonth(\"date\")).withColumn(\"quarter\", F.quarter(\"date\")).withColumn(\"dow\", F.dayofweek(\"date\"))"
      ],
      "outputs": [],
      "execution_count": null
    },
    {
      "cell_type": "code",
      "metadata": {
        "jukit_cell_id": "R0U3HLnoOM"
      },
      "source": [
        "dim_time.show(n=5, truncate=False)"
      ],
      "outputs": [
        {
          "name": "stdout",
          "output_type": "stream",
          "text": [
            "+----------+-------+----+-----+---+-------+---+\n",
            "|date      |time_id|year|month|day|quarter|dow|\n",
            "+----------+-------+----+-----+---+-------+---+\n",
            "|2021-11-13|0      |2021|11   |13 |4      |7  |\n",
            "|2021-12-18|1      |2021|12   |18 |4      |7  |\n",
            "|2021-08-27|2      |2021|8    |27 |3      |6  |\n",
            "+----------+-------+----+-----+---+-------+---+\n",
            "only showing top 3 rows\n",
            "\n"
          ]
        }
      ],
      "execution_count": 3
    },
    {
      "cell_type": "code",
      "metadata": {
        "jukit_cell_id": "hJ8hftDah5"
      },
      "source": [
        "dim_store = df.groupBy(\"store_name\", \"store_location\").agg(\n",
        "        F.first(\"store_city\").alias(\"store_city\"),\n",
        "        F.first(\"store_state\").alias(\"store_state\"),\n",
        "        F.first(\"store_country\").alias(\"store_country\"),\n",
        "        F.first(\"store_phone\").alias(\"store_phone\"),\n",
        "        F.first(\"store_email\").alias(\"store_email\")\n",
        "    ).withColumn(\"store_id\", F.monotonically_increasing_id())"
      ],
      "outputs": [],
      "execution_count": null
    },
    {
      "cell_type": "code",
      "metadata": {
        "jukit_cell_id": "0wWj6Vonen"
      },
      "source": [
        "dim_store.show(n=5, truncate=False)"
      ],
      "outputs": [
        {
          "name": "stdout",
          "output_type": "stream",
          "text": [
            "+----------+--------------+-----------+-----------+-------------+------------+-----------------------+--------+\n",
            "|store_name|store_location|store_city |store_state|store_country|store_phone |store_email            |store_id|\n",
            "+----------+--------------+-----------+-----------+-------------+------------+-----------------------+--------+\n",
            "|Abata     |11th Floor    |Ibi\u00fana     |NULL       |Montenegro   |660-676-5491|cchevisp5@npr.org      |0       |\n",
            "|Abata     |12th Floor    |San Vicente|NULL       |Argentina    |230-952-8959|lgoodacregs@vinaora.com|1       |\n",
            "|Abata     |14th Floor    |Norsborg   |AB         |Portugal     |155-350-7386|shanshaw8h@sfgate.com  |2       |\n",
            "+----------+--------------+-----------+-----------+-------------+------------+-----------------------+--------+\n",
            "only showing top 3 rows\n",
            "\n"
          ]
        }
      ],
      "execution_count": 4
    },
    {
      "cell_type": "code",
      "metadata": {
        "jukit_cell_id": "hTNgzPfPaC"
      },
      "source": [
        "dim_supplier = df.groupBy(\"supplier_name\", \"supplier_country\").agg(\n",
        "        F.first(\"supplier_contact\").alias(\"supplier_contact\"),\n",
        "        F.first(\"supplier_email\").alias(\"supplier_email\"),\n",
        "        F.first(\"supplier_phone\").alias(\"supplier_phone\"),\n",
        "        F.first(\"supplier_address\").alias(\"supplier_address\"),\n",
        "        F.first(\"supplier_city\").alias(\"supplier_city\")\n",
        "    ).withColumn(\"supplier_id\", F.monotonically_increasing_id())"
      ],
      "outputs": [],
      "execution_count": null
    },
    {
      "cell_type": "code",
      "metadata": {
        "jukit_cell_id": "CjsRMOEqZO"
      },
      "source": [
        "dim_supplier.show(n=5, truncate=False)"
      ],
      "outputs": [
        {
          "name": "stdout",
          "output_type": "stream",
          "text": [
            "+-------------+----------------+----------------+-------------------------+--------------+----------------+------------------+-----------+\n",
            "|supplier_name|supplier_country|supplier_contact|supplier_email           |supplier_phone|supplier_address|supplier_city     |supplier_id|\n",
            "+-------------+----------------+----------------+-------------------------+--------------+----------------+------------------+-----------+\n",
            "|Abata        |Armenia         |Farris Blanking |fblankingd8@google.com.au|530-854-6864  |Suite 51        |Jindong           |0          |\n",
            "|Abata        |Australia       |Bernadene Bossel|bbossellv@fema.gov       |812-276-2743  |PO Box 14734    |Evansville        |1          |\n",
            "|Abata        |Brazil          |Vivianna Niblock|vniblockn7@va.gov        |268-303-3219  |Room 816        |Ambohitrolomahitsy|2          |\n",
            "+-------------+----------------+----------------+-------------------------+--------------+----------------+------------------+-----------+\n",
            "only showing top 3 rows\n",
            "\n"
          ]
        }
      ],
      "execution_count": 5
    },
    {
      "cell_type": "code",
      "metadata": {
        "jukit_cell_id": "VOFKQko9M9"
      },
      "source": [
        "fact_sales = df.alias(\"f\").join(dim_customer.alias(\"c\"),F.col(\"f.sale_customer_id\") == F.col(\"c.customer_id\"), \"left\").join(dim_product.alias(\"p\"),F.col(\"f.sale_product_id\") == F.col(\"p.product_id\"), \"left\").join(dim_store.alias(\"s\"),\n",
        "              (F.col(\"f.store_name\") == F.col(\"s.store_name\")) & \n",
        "              (F.col(\"f.store_location\") == F.col(\"s.store_location\")), \"left\") \\\n",
        "        .join(dim_supplier.alias(\"sup\"),\n",
        "              (F.col(\"f.supplier_name\") == F.col(\"sup.supplier_name\")) & \n",
        "              (F.col(\"f.supplier_country\") == F.col(\"sup.supplier_country\")), \"left\") \\\n",
        "        .join(dim_time.alias(\"t\"),\n",
        "              F.col(\"f.sale_date\") == F.col(\"t.date\"), \"left\") \\\n",
        "        .select(\n",
        "            F.col(\"f.sale_id\").alias(\"sale_id\"),\n",
        "            F.col(\"c.customer_id\"),\n",
        "            F.col(\"p.product_id\"),\n",
        "            F.coalesce(F.col(\"s.store_id\"), F.lit(-1)).alias(\"store_id\"),\n",
        "            F.coalesce(F.col(\"sup.supplier_id\"), F.lit(-1)).alias(\"supplier_id\"),\n",
        "            F.col(\"t.time_id\"),\n",
        "            F.col(\"sale_quantity\").alias(\"quantity\"),\n",
        "            F.col(\"sale_total_price\").alias(\"total_price\")\n",
        "        )"
      ],
      "outputs": [],
      "execution_count": null
    },
    {
      "cell_type": "code",
      "metadata": {
        "jukit_cell_id": "bEgbd09m0z"
      },
      "source": [
        "fact_sales.show(n=5, truncate=False)"
      ],
      "outputs": [
        {
          "name": "stdout",
          "output_type": "stream",
          "text": [
            "+-------+-----------+----------+--------+-----------+-------+--------+----------------------+\n",
            "|sale_id|customer_id|product_id|store_id|supplier_id|time_id|quantity|total_price           |\n",
            "+-------+-----------+----------+--------+-----------+-------+--------+----------------------+\n",
            "|0      |1          |1         |4263    |785        |242    |4       |487.700000000000000000|\n",
            "|2      |3          |3         |2986    |2521       |61     |9       |144.240000000000000000|\n",
            "|3      |4          |4         |2239    |891        |218    |4       |441.090000000000000000|\n",
            "+-------+-----------+----------+--------+-----------+-------+--------+----------------------+\n",
            "only showing top 3 rows\n",
            "\n"
          ]
        }
      ],
      "execution_count": 6
    },
    {
      "cell_type": "code",
      "metadata": {
        "jukit_cell_id": "HR4checfKM"
      },
      "source": [
        "dim_customer.write.jdbc(url=jdbc_url, table=\"dim_customer\", mode=\"overwrite\", properties=connection_properties) \n",
        "dim_product.write.jdbc(url=jdbc_url, table=\"dim_product\", mode=\"overwrite\", properties=connection_properties)   \n",
        "dim_store.write.jdbc(url=jdbc_url, table=\"dim_store\", mode=\"overwrite\", properties=connection_properties)    \n",
        "dim_supplier.write.jdbc(url=jdbc_url, table=\"dim_supplier\", mode=\"overwrite\", properties=connection_properties)   \n",
        "dim_time.write.jdbc(url=jdbc_url, table=\"dim_time\", mode=\"overwrite\", properties=connection_properties)  \n",
        "fact_sales.write.jdbc(url=jdbc_url, table=\"fact_sales\", mode=\"overwrite\", properties=connection_properties)"
      ],
      "outputs": [],
      "execution_count": null
    },
    {
      "cell_type": "code",
      "metadata": {
        "jukit_cell_id": "TqE7aJdU5j"
      },
      "source": [
        "spark.stop()"
      ],
      "outputs": [],
      "execution_count": null
    }
  ],
  "metadata": {
    "anaconda-cloud": {},
    "kernelspec": {
      "display_name": "python",
      "language": "python",
      "name": "python3"
    }
  },
  "nbformat": 4,
  "nbformat_minor": 4
}
