{
  "cells": [
    {
      "cell_type": "code",
      "metadata": {
        "jukit_cell_id": "pfrfncc2wq"
      },
      "source": [
        "from pyspark.sql import SparkSession\n",
        "from pyspark.sql.functions import sum, avg, count, countDistinct, col, desc, rank\n",
        "from pyspark.sql.window import Window"
      ],
      "outputs": [],
      "execution_count": null
    },
    {
      "cell_type": "code",
      "metadata": {
        "jukit_cell_id": "rZRT3v4RFI"
      },
      "source": [
        "spark = SparkSession.builder \\\n",
        "    .appName(\"ETL to ClickHouse\") \\\n",
        "    .config(\"spark.jars\", \"/home/jovyan/jars/postgresql-42.7.3.jar,/home/jovyan/jars/clickhouse-jdbc-0.4.6.jar\") \\\n",
        "    .getOrCreate()"
      ],
      "outputs": [],
      "execution_count": null
    },
    {
      "cell_type": "code",
      "metadata": {
        "jukit_cell_id": "bwtvBya24k"
      },
      "source": [
        "jdbc_url = \"jdbc:postgresql://bigdata_postgres:5432/postgres\"\n",
        "properties = {\n",
        "    \"user\": \"bd_user\",\n",
        "    \"password\": \"bd_pass\",\n",
        "    \"driver\": \"org.postgresql.Driver\"\n",
        "}"
      ],
      "outputs": [],
      "execution_count": null
    },
    {
      "cell_type": "code",
      "metadata": {
        "jukit_cell_id": "eDdNm3cWrm"
      },
      "source": [
        "fact_sales = spark.read.jdbc(url=jdbc_url, table=\"fact_sales\", properties=properties)\n",
        "dim_product = spark.read.jdbc(url=jdbc_url, table=\"dim_product\", properties=properties)\n",
        "dim_customer = spark.read.jdbc(url=jdbc_url, table=\"dim_customer\", properties=properties)\n",
        "dim_time = spark.read.jdbc(url=jdbc_url, table=\"dim_time\", properties=properties)\n",
        "dim_store = spark.read.jdbc(url=jdbc_url, table=\"dim_store\", properties=properties)\n",
        "dim_supplier = spark.read.jdbc(url=jdbc_url, table=\"dim_supplier\", properties=properties)"
      ],
      "outputs": [],
      "execution_count": null
    },
    {
      "cell_type": "code",
      "metadata": {
        "jukit_cell_id": "KVv0mKQ1s2"
      },
      "source": [
        "clickhouse_url = \"jdbc:clickhouse://clickhouse:8123/default\""
      ],
      "outputs": [],
      "execution_count": null
    },
    {
      "cell_type": "code",
      "metadata": {
        "jukit_cell_id": "9ftul3dmt6"
      },
      "source": [
        "print(\"\\n\\t \u0412\u0438\u0442\u0440\u0438\u043d\u0430 \u043f\u0440\u043e\u0434\u0430\u0436 \u043f\u043e \u043f\u0440\u043e\u0434\u0443\u043a\u0442\u0430\u043c:\")\n",
        "product_report = fact_sales.alias(\"f\") \\\n",
        "    .join(dim_product.alias(\"p\"), \"product_id\") \\\n",
        "    .groupBy(\"p.product_name\", \"p.product_category\") \\\n",
        "    .agg(\n",
        "        sum(\"f.quantity\").alias(\"total_quantity_sold\"),\n",
        "        sum(\"f.total_price\").alias(\"total_revenue\"),\n",
        "        avg(\"p.product_rating\").alias(\"avg_rating\"),\n",
        "        sum(\"p.product_reviews\").alias(\"total_reviews\")\n",
        "    )\n",
        "print(\"\u0426\u0435\u043b\u044c: \u0410\u043d\u0430\u043b\u0438\u0437 \u0432\u044b\u0440\u0443\u0447\u043a\u0438, \u043a\u043e\u043b\u0438\u0447\u0435\u0441\u0442\u0432\u0430 \u043f\u0440\u043e\u0434\u0430\u0436 \u0438 \u043f\u043e\u043f\u0443\u043b\u044f\u0440\u043d\u043e\u0441\u0442\u0438 \u043f\u0440\u043e\u0434\u0443\u043a\u0442\u043e\u0432.\")\n",
        "product_report.show(5)"
      ],
      "outputs": [
        {
          "name": "stdout",
          "output_type": "stream",
          "text": [
            "\n",
            "===> \u0412\u0438\u0442\u0440\u0438\u043d\u0430 \u043f\u0440\u043e\u0434\u0430\u0436 \u043f\u043e \u043f\u0440\u043e\u0434\u0443\u043a\u0442\u0430\u043c:\n",
            "\u0426\u0435\u043b\u044c: \u0410\u043d\u0430\u043b\u0438\u0437 \u0432\u044b\u0440\u0443\u0447\u043a\u0438, \u043a\u043e\u043b\u0438\u0447\u0435\u0441\u0442\u0432\u0430 \u043f\u0440\u043e\u0434\u0430\u0436 \u0438 \u043f\u043e\u043f\u0443\u043b\u044f\u0440\u043d\u043e\u0441\u0442\u0438 \u043f\u0440\u043e\u0434\u0443\u043a\u0442\u043e\u0432.\n",
            "+------------+----------------+-------------------+--------------------+--------------------+-------------+\n",
            "|product_name|product_category|total_quantity_sold|       total_revenue|          avg_rating|total_reviews|\n",
            "+------------+----------------+-------------------+--------------------+--------------------+-------------+\n",
            "|    Dog Food|             Toy|               6441|298455.0600000000...|3.046153846153846...|       598730|\n",
            "|    Dog Food|            Food|               5628|265113.7200000000...|2.886407766990291...|       507690|\n",
            "|    Dog Food|            Cage|               6214|285186.5700000000...|3.098260869565217...|       522080|\n",
            "|   Bird Cage|             Toy|               6126|278616.2800000000...|3.129729729729729...|       507840|\n",
            "|   Bird Cage|            Cage|               6172|294655.3600000000...|3.118421052631578...|       552440|\n",
            "+------------+----------------+-------------------+--------------------+--------------------+-------------+\n",
            "only showing top 5 rows\n",
            "\n"
          ]
        }
      ],
      "execution_count": 1
    },
    {
      "cell_type": "code",
      "metadata": {
        "jukit_cell_id": "HtEVT9oHBS"
      },
      "source": [
        "print(\"\\n\\t \u0422\u041e\u041f-10 \u0441\u0430\u043c\u044b\u0445 \u043f\u0440\u043e\u0434\u0430\u0432\u0430\u0435\u043c\u044b\u0445 \u043f\u0440\u043e\u0434\u0443\u043a\u0442\u043e\u0432:\")\n",
        "top_products = product_report.orderBy(desc(\"total_revenue\")).limit(9)\n",
        "top_products.show()"
      ],
      "outputs": [
        {
          "name": "stdout",
          "output_type": "stream",
          "text": [
            "\n",
            "===> \u0422\u041e\u041f-10 \u0441\u0430\u043c\u044b\u0445 \u043f\u0440\u043e\u0434\u0430\u0432\u0430\u0435\u043c\u044b\u0445 \u043f\u0440\u043e\u0434\u0443\u043a\u0442\u043e\u0432:\n",
            "+------------+----------------+-------------------+--------------------+--------------------+-------------+\n",
            "|product_name|product_category|total_quantity_sold|       total_revenue|          avg_rating|total_reviews|\n",
            "+------------+----------------+-------------------+--------------------+--------------------+-------------+\n",
            "|     Cat Toy|            Food|               6847|316687.0800000000...|2.928000000000000...|       654350|\n",
            "|    Dog Food|             Toy|               6441|298455.0600000000...|3.046153846153846...|       598730|\n",
            "|   Bird Cage|            Cage|               6172|294655.3600000000...|3.118421052631578...|       552440|\n",
            "|    Dog Food|            Cage|               6214|285186.5700000000...|3.098260869565217...|       522080|\n",
            "|   Bird Cage|             Toy|               6126|278616.2800000000...|3.129729729729729...|       507840|\n",
            "|     Cat Toy|            Cage|               5812|265680.0500000000...|2.948113207547169...|       523020|\n",
            "|    Dog Food|            Food|               5628|265113.7200000000...|2.886407766990291...|       507690|\n",
            "|     Cat Toy|             Toy|               5954|264149.1300000000...|3.057943925233644...|       570810|\n",
            "|   Bird Cage|            Food|               5429|261308.8700000000...|3.182352941176470...|       540150|\n",
            "+------------+----------------+-------------------+--------------------+--------------------+-------------+\n",
            "\n"
          ]
        }
      ],
      "execution_count": 2
    },
    {
      "cell_type": "code",
      "metadata": {
        "jukit_cell_id": "6RSoixSowM"
      },
      "source": [
        "print(\"\\n\\t \u041e\u0431\u0449\u0430\u044f \u0432\u044b\u0440\u0443\u0447\u043a\u0430 \u043f\u043e \u043a\u0430\u0442\u0435\u0433\u043e\u0440\u0438\u044f\u043c \u043f\u0440\u043e\u0434\u0443\u043a\u0442\u043e\u0432:\")\n",
        "category_revenue = product_report.groupBy(\"product_category\").agg(sum(\"total_revenue\").alias(\"total_revenue\"))\n",
        "category_revenue.show()"
      ],
      "outputs": [
        {
          "name": "stdout",
          "output_type": "stream",
          "text": [
            "\n",
            "===> \u041e\u0431\u0449\u0430\u044f \u0432\u044b\u0440\u0443\u0447\u043a\u0430 \u043f\u043e \u043a\u0430\u0442\u0435\u0433\u043e\u0440\u0438\u044f\u043c \u043f\u0440\u043e\u0434\u0443\u043a\u0442\u043e\u0432:\n",
            "+----------------+--------------------+\n",
            "|product_category|       total_revenue|\n",
            "+----------------+--------------------+\n",
            "|            Cage|845521.9800000000...|\n",
            "|            Food|843109.6700000000...|\n",
            "|             Toy|841220.4700000000...|\n",
            "+----------------+--------------------+\n",
            "\n"
          ]
        }
      ],
      "execution_count": 3
    },
    {
      "cell_type": "code",
      "metadata": {
        "jukit_cell_id": "I9N5t3IVkA"
      },
      "source": [
        "print(\"\\n\\t \u0421\u0440\u0435\u0434\u043d\u0438\u0439 \u0440\u0435\u0439\u0442\u0438\u043d\u0433 \u0438 \u043a\u043e\u043b\u0438\u0447\u0435\u0441\u0442\u0432\u043e \u043e\u0442\u0437\u044b\u0432\u043e\u0432 \u0434\u043b\u044f \u043a\u0430\u0436\u0434\u043e\u0433\u043e \u043f\u0440\u043e\u0434\u0443\u043a\u0442\u0430:\")\n",
        "ratings_and_reviews = product_report.select(\"product_name\", \"avg_rating\", \"total_reviews\")\n",
        "ratings_and_reviews.show()"
      ],
      "outputs": [
        {
          "name": "stdout",
          "output_type": "stream",
          "text": [
            "\n",
            "===> \u0421\u0440\u0435\u0434\u043d\u0438\u0439 \u0440\u0435\u0439\u0442\u0438\u043d\u0433 \u0438 \u043a\u043e\u043b\u0438\u0447\u0435\u0441\u0442\u0432\u043e \u043e\u0442\u0437\u044b\u0432\u043e\u0432 \u0434\u043b\u044f \u043a\u0430\u0436\u0434\u043e\u0433\u043e \u043f\u0440\u043e\u0434\u0443\u043a\u0442\u0430:\n",
            "+------------+--------------------+-------------+\n",
            "|product_name|          avg_rating|total_reviews|\n",
            "+------------+--------------------+-------------+\n",
            "|    Dog Food|3.046153846153846...|       598730|\n",
            "|    Dog Food|2.886407766990291...|       507690|\n",
            "|    Dog Food|3.098260869565217...|       522080|\n",
            "|   Bird Cage|3.129729729729729...|       507840|\n",
            "|   Bird Cage|3.118421052631578...|       552440|\n",
            "|   Bird Cage|3.182352941176470...|       540150|\n",
            "|     Cat Toy|2.948113207547169...|       523020|\n",
            "|     Cat Toy|2.928000000000000...|       654350|\n",
            "|     Cat Toy|3.057943925233644...|       570810|\n",
            "+------------+--------------------+-------------+\n",
            "\n"
          ]
        }
      ],
      "execution_count": 4
    },
    {
      "cell_type": "code",
      "metadata": {
        "jukit_cell_id": "mY69Dcw0lK"
      },
      "source": [
        "print(\"\\n\\t \u0412\u0438\u0442\u0440\u0438\u043d\u0430 \u043f\u0440\u043e\u0434\u0430\u0436 \u043f\u043e \u043a\u043b\u0438\u0435\u043d\u0442\u0430\u043c:\")\n",
        "customer_report = fact_sales.alias(\"f\") \\\n",
        "    .join(dim_customer.alias(\"c\"), \"customer_id\") \\\n",
        "    .groupBy(\"c.customer_first_name\", \"c.customer_last_name\", \"c.customer_country\") \\\n",
        "    .agg(\n",
        "        sum(\"f.total_price\").alias(\"total_spent\"),\n",
        "        count(\"*\").alias(\"total_orders\"),\n",
        "        avg(\"f.total_price\").alias(\"avg_order_value\")\n",
        "    )"
      ],
      "outputs": [
        {
          "name": "stdout",
          "output_type": "stream",
          "text": [
            "\n",
            "===> \u0412\u0438\u0442\u0440\u0438\u043d\u0430 \u043f\u0440\u043e\u0434\u0430\u0436 \u043f\u043e \u043a\u043b\u0438\u0435\u043d\u0442\u0430\u043c:\n"
          ]
        }
      ],
      "execution_count": 5
    },
    {
      "cell_type": "code",
      "metadata": {
        "jukit_cell_id": "2wIVHzlxAW"
      },
      "source": [
        "print(\"\u0426\u0435\u043b\u044c: \u0410\u043d\u0430\u043b\u0438\u0437 \u043f\u043e\u043a\u0443\u043f\u0430\u0442\u0435\u043b\u044c\u0441\u043a\u043e\u0433\u043e \u043f\u043e\u0432\u0435\u0434\u0435\u043d\u0438\u044f \u0438 \u0441\u0435\u0433\u043c\u0435\u043d\u0442\u0430\u0446\u0438\u044f \u043a\u043b\u0438\u0435\u043d\u0442\u043e\u0432.\")\n",
        "customer_report.show(5)"
      ],
      "outputs": [
        {
          "name": "stdout",
          "output_type": "stream",
          "text": [
            "\u0426\u0435\u043b\u044c: \u0410\u043d\u0430\u043b\u0438\u0437 \u043f\u043e\u043a\u0443\u043f\u0430\u0442\u0435\u043b\u044c\u0441\u043a\u043e\u0433\u043e \u043f\u043e\u0432\u0435\u0434\u0435\u043d\u0438\u044f \u0438 \u0441\u0435\u0433\u043c\u0435\u043d\u0442\u0430\u0446\u0438\u044f \u043a\u043b\u0438\u0435\u043d\u0442\u043e\u0432.\n",
            "+-------------------+------------------+----------------+--------------------+------------+--------------------+\n",
            "|customer_first_name|customer_last_name|customer_country|         total_spent|total_orders|     avg_order_value|\n",
            "+-------------------+------------------+----------------+--------------------+------------+--------------------+\n",
            "|           Charlene|           Topping|            Mali|2886.370000000000...|          10|288.6370000000000...|\n",
            "|               Trey|          Conigsby|          Poland|2013.840000000000...|          10|201.3840000000000...|\n",
            "|              Roxie|           Marqyes|            Iran|1747.740000000000...|          10|174.7740000000000...|\n",
            "|               Lacy|          Kilfeder|          Poland|2005.730000000000...|          10|200.5730000000000...|\n",
            "|          Clementia|             Crate|          Poland|2189.790000000000...|          10|218.9790000000000...|\n",
            "+-------------------+------------------+----------------+--------------------+------------+--------------------+\n",
            "only showing top 5 rows\n",
            "\n"
          ]
        }
      ],
      "execution_count": 6
    },
    {
      "cell_type": "code",
      "metadata": {
        "jukit_cell_id": "tYH9p7zRj3"
      },
      "source": [
        "print(\"\\n\\t \u0422\u041e\u041f-10 \u043a\u043b\u0438\u0435\u043d\u0442\u043e\u0432 \u0441 \u043d\u0430\u0438\u0431\u043e\u043b\u044c\u0448\u0435\u0439 \u043e\u0431\u0449\u0435\u0439 \u0441\u0443\u043c\u043c\u043e\u0439 \u043f\u043e\u043a\u0443\u043f\u043e\u043a:\")\n",
        "top_customers = customer_report.orderBy(desc(\"total_spent\")).limit(10)\n",
        "top_customers.show()"
      ],
      "outputs": [
        {
          "name": "stdout",
          "output_type": "stream",
          "text": [
            "\n",
            "===> \u0422\u041e\u041f-10 \u043a\u043b\u0438\u0435\u043d\u0442\u043e\u0432 \u0441 \u043d\u0430\u0438\u0431\u043e\u043b\u044c\u0448\u0435\u0439 \u043e\u0431\u0449\u0435\u0439 \u0441\u0443\u043c\u043c\u043e\u0439 \u043f\u043e\u043a\u0443\u043f\u043e\u043a:\n",
            "+-------------------+------------------+----------------+--------------------+------------+--------------------+\n",
            "|customer_first_name|customer_last_name|customer_country|         total_spent|total_orders|     avg_order_value|\n",
            "+-------------------+------------------+----------------+--------------------+------------+--------------------+\n",
            "|               Mile|              Tuer|          Jordan|4005.980000000000...|          10|400.5980000000000...|\n",
            "|             Lewiss|           Pinshon|           China|3784.440000000000...|          10|378.4440000000000...|\n",
            "|             Alexis|           Quinton|           China|3751.090000000000...|          10|375.1090000000000...|\n",
            "|             Benita|           Godding|         Nigeria|3682.520000000000...|          10|368.2520000000000...|\n",
            "|             Elvira|         Faircliff|       Australia|3645.940000000000...|          10|364.5940000000000...|\n",
            "|          Shandeigh|         Thomassin|          France|3616.930000000000...|          10|361.6930000000000...|\n",
            "|             Lucien|             Slade|          Russia|3571.100000000000...|          10|357.1100000000000...|\n",
            "|               Swen|             Holah|           China|3548.860000000000...|          10|354.8860000000000...|\n",
            "|             Saleem|        Fitzsimons|          Greece|3546.420000000000...|          10|354.6420000000000...|\n",
            "|            Maureen|         Grollmann|           China|3537.040000000000...|          10|353.7040000000000...|\n",
            "+-------------------+------------------+----------------+--------------------+------------+--------------------+\n",
            "\n"
          ]
        }
      ],
      "execution_count": 7
    },
    {
      "cell_type": "code",
      "metadata": {
        "jukit_cell_id": "FZPgcn5EtK"
      },
      "source": [
        "print(\"\\n\\t \u0420\u0430\u0441\u043f\u0440\u0435\u0434\u0435\u043b\u0435\u043d\u0438\u0435 \u043a\u043b\u0438\u0435\u043d\u0442\u043e\u0432 \u043f\u043e \u0441\u0442\u0440\u0430\u043d\u0430\u043c:\")\n",
        "country_distribution = customer_report.groupBy(\"customer_country\").agg(count(\"*\").alias(\"clients_count\"))\n",
        "country_distribution.show()"
      ],
      "outputs": [
        {
          "name": "stdout",
          "output_type": "stream",
          "text": [
            "\n",
            "===> \u0420\u0430\u0441\u043f\u0440\u0435\u0434\u0435\u043b\u0435\u043d\u0438\u0435 \u043a\u043b\u0438\u0435\u043d\u0442\u043e\u0432 \u043f\u043e \u0441\u0442\u0440\u0430\u043d\u0430\u043c:\n",
            "+----------------+-------------+\n",
            "|customer_country|clients_count|\n",
            "+----------------+-------------+\n",
            "|            Chad|            1|\n",
            "|          Russia|           47|\n",
            "|           Yemen|            2|\n",
            "|          Sweden|           28|\n",
            "|     Philippines|           46|\n",
            "|        Malaysia|            5|\n",
            "|            Iraq|            1|\n",
            "|         Germany|            2|\n",
            "|         Comoros|            1|\n",
            "|        Cambodia|            1|\n",
            "|     Afghanistan|            1|\n",
            "|          Jordan|            3|\n",
            "|     Ivory Coast|            3|\n",
            "|           Sudan|            2|\n",
            "|          France|           35|\n",
            "|          Greece|           14|\n",
            "|          Kosovo|            1|\n",
            "|       Sri Lanka|            2|\n",
            "|          Taiwan|            1|\n",
            "|       Argentina|           10|\n",
            "+----------------+-------------+\n",
            "only showing top 20 rows\n",
            "\n"
          ]
        }
      ],
      "execution_count": 8
    },
    {
      "cell_type": "code",
      "metadata": {
        "jukit_cell_id": "pYOS16gBnO"
      },
      "source": [
        "print(\"\\n\\t \u0421\u0440\u0435\u0434\u043d\u0438\u0439 \u0447\u0435\u043a \u0434\u043b\u044f \u043a\u0430\u0436\u0434\u043e\u0433\u043e \u043a\u043b\u0438\u0435\u043d\u0442\u0430:\")\n",
        "avg_check_per_customer = customer_report.select(\"customer_first_name\", \"customer_last_name\", \"avg_order_value\")\n",
        "avg_check_per_customer.show()"
      ],
      "outputs": [
        {
          "name": "stdout",
          "output_type": "stream",
          "text": [
            "\n",
            "===> \u0421\u0440\u0435\u0434\u043d\u0438\u0439 \u0447\u0435\u043a \u0434\u043b\u044f \u043a\u0430\u0436\u0434\u043e\u0433\u043e \u043a\u043b\u0438\u0435\u043d\u0442\u0430:\n",
            "+-------------------+------------------+--------------------+\n",
            "|customer_first_name|customer_last_name|     avg_order_value|\n",
            "+-------------------+------------------+--------------------+\n",
            "|           Charlene|           Topping|288.6370000000000...|\n",
            "|               Trey|          Conigsby|201.3840000000000...|\n",
            "|              Roxie|           Marqyes|174.7740000000000...|\n",
            "|               Lacy|          Kilfeder|200.5730000000000...|\n",
            "|          Clementia|             Crate|218.9790000000000...|\n",
            "|            Tristam|            Tandey|273.2890000000000...|\n",
            "|            Abelard|            Guyers|178.5970000000000...|\n",
            "|              Alfie|          Nannetti|256.6570000000000...|\n",
            "|          Rosalinde|        O'Hogertie|302.5140000000000...|\n",
            "|               Lyon|        Beverstock|225.2390000000000...|\n",
            "|               Dall|             Frear|272.1510000000000...|\n",
            "|              Rahel|          Thonason|249.1000000000000...|\n",
            "|             Dickie|            Somner|286.4550000000000...|\n",
            "|              Fiona|       Petrushanko|224.5990000000000...|\n",
            "|            Cointon|             Cavie|197.3200000000000...|\n",
            "|               Gail|           Stapele|239.8610000000000...|\n",
            "|           Carolann|            Drover|168.6440000000000...|\n",
            "|               June|         Greenwell|215.8140000000000...|\n",
            "|         Andromache|            Sebert|225.5470000000000...|\n",
            "|             Shayna|           Prebble|204.0240000000000...|\n",
            "+-------------------+------------------+--------------------+\n",
            "only showing top 20 rows\n",
            "\n"
          ]
        }
      ],
      "execution_count": 9
    },
    {
      "cell_type": "code",
      "metadata": {
        "jukit_cell_id": "4uQnhdBCHE"
      },
      "source": [
        "print(\"\\n\\t \u0412\u0438\u0442\u0440\u0438\u043d\u0430 \u043f\u0440\u043e\u0434\u0430\u0436 \u043f\u043e \u0432\u0440\u0435\u043c\u0435\u043d\u0438:\")\n",
        "time_report = fact_sales.alias(\"f\") \\\n",
        "    .join(dim_time.alias(\"t\"), \"time_id\") \\\n",
        "    .groupBy(\"t.year\", \"t.month\") \\\n",
        "    .agg(\n",
        "        sum(\"f.total_price\").alias(\"monthly_revenue\"),\n",
        "        sum(\"f.quantity\").alias(\"total_items_sold\"),\n",
        "        avg(\"f.total_price\").alias(\"avg_order_size\")\n",
        "    ).orderBy(\"t.year\", \"t.month\")\n",
        "print(\"\u0426\u0435\u043b\u044c: \u0410\u043d\u0430\u043b\u0438\u0437 \u0441\u0435\u0437\u043e\u043d\u043d\u043e\u0441\u0442\u0438 \u0438 \u0442\u0440\u0435\u043d\u0434\u043e\u0432 \u043f\u0440\u043e\u0434\u0430\u0436.\")\n",
        "time_report.show(5)"
      ],
      "outputs": [
        {
          "name": "stdout",
          "output_type": "stream",
          "text": [
            "\n",
            "===> \u0412\u0438\u0442\u0440\u0438\u043d\u0430 \u043f\u0440\u043e\u0434\u0430\u0436 \u043f\u043e \u0432\u0440\u0435\u043c\u0435\u043d\u0438:\n",
            "\u0426\u0435\u043b\u044c: \u0410\u043d\u0430\u043b\u0438\u0437 \u0441\u0435\u0437\u043e\u043d\u043d\u043e\u0441\u0442\u0438 \u0438 \u0442\u0440\u0435\u043d\u0434\u043e\u0432 \u043f\u0440\u043e\u0434\u0430\u0436.\n",
            "+----+-----+--------------------+----------------+--------------------+\n",
            "|year|month|     monthly_revenue|total_items_sold|      avg_order_size|\n",
            "+----+-----+--------------------+----------------+--------------------+\n",
            "|2021|    1|224158.5400000000...|            4856|256.4743020594965...|\n",
            "|2021|    2|192348.3100000000...|            4070|260.2818809201623...|\n",
            "|2021|    3|207282.2000000000...|            4561|245.8863582443653...|\n",
            "|2021|    4|206592.8200000000...|            4564|246.8253524492234...|\n",
            "|2021|    5|211764.8600000000...|            4451|255.7546618357487...|\n",
            "+----+-----+--------------------+----------------+--------------------+\n",
            "only showing top 5 rows\n",
            "\n"
          ]
        }
      ],
      "execution_count": 10
    },
    {
      "cell_type": "code",
      "metadata": {
        "jukit_cell_id": "JTm3h1Rbx9"
      },
      "source": [
        "print(\"\\n\\t \u041c\u0435\u0441\u044f\u0447\u043d\u044b\u0435 \u0438 \u0433\u043e\u0434\u043e\u0432\u044b\u0435 \u0442\u0440\u0435\u043d\u0434\u044b \u043f\u0440\u043e\u0434\u0430\u0436:\")\n",
        "yearly_trends = time_report.groupBy(\"year\").agg(sum(\"monthly_revenue\").alias(\"annual_revenue\"))\n",
        "yearly_trends.show()"
      ],
      "outputs": [
        {
          "name": "stdout",
          "output_type": "stream",
          "text": [
            "\n",
            "===> \u041c\u0435\u0441\u044f\u0447\u043d\u044b\u0435 \u0438 \u0433\u043e\u0434\u043e\u0432\u044b\u0435 \u0442\u0440\u0435\u043d\u0434\u044b \u043f\u0440\u043e\u0434\u0430\u0436:\n",
            "+----+--------------------+\n",
            "|year|      annual_revenue|\n",
            "+----+--------------------+\n",
            "|2021|2529852.120000000...|\n",
            "+----+--------------------+\n",
            "\n"
          ]
        }
      ],
      "execution_count": 11
    },
    {
      "cell_type": "code",
      "metadata": {
        "jukit_cell_id": "2TZtNXEnX9"
      },
      "source": [
        "print(\"\\n\\t \u0421\u0440\u0435\u0434\u043d\u0438\u0439 \u0440\u0430\u0437\u043c\u0435\u0440 \u0437\u0430\u043a\u0430\u0437\u0430 \u043f\u043e \u043c\u0435\u0441\u044f\u0446\u0430\u043c:\")\n",
        "avg_order_size_per_month = time_report.select(\"year\", \"month\", \"avg_order_size\")\n",
        "avg_order_size_per_month.show()"
      ],
      "outputs": [
        {
          "name": "stdout",
          "output_type": "stream",
          "text": [
            "\n",
            "===> \u0421\u0440\u0435\u0434\u043d\u0438\u0439 \u0440\u0430\u0437\u043c\u0435\u0440 \u0437\u0430\u043a\u0430\u0437\u0430 \u043f\u043e \u043c\u0435\u0441\u044f\u0446\u0430\u043c:\n",
            "+----+-----+--------------------+\n",
            "|year|month|      avg_order_size|\n",
            "+----+-----+--------------------+\n",
            "|2021|    1|256.4743020594965...|\n",
            "|2021|    2|260.2818809201623...|\n",
            "|2021|    3|245.8863582443653...|\n",
            "|2021|    4|246.8253524492234...|\n",
            "|2021|    5|255.7546618357487...|\n",
            "|2021|    6|261.6092457420924...|\n",
            "|2021|    7|256.9889393939393...|\n",
            "|2021|    8|246.6842586399108...|\n",
            "|2021|    9|251.0410369487485...|\n",
            "|2021|   10|256.4386995515695...|\n",
            "|2021|   11|249.8810112359550...|\n",
            "|2021|   12|248.5309870129870...|\n",
            "+----+-----+--------------------+\n",
            "\n"
          ]
        }
      ],
      "execution_count": 12
    },
    {
      "cell_type": "code",
      "metadata": {
        "jukit_cell_id": "NeXM7Tyt0z"
      },
      "source": [
        "print(\"\\n\\t \u0412\u0438\u0442\u0440\u0438\u043d\u0430 \u043f\u0440\u043e\u0434\u0430\u0436 \u043f\u043e \u043c\u0430\u0433\u0430\u0437\u0438\u043d\u0430\u043c:\")\n",
        "store_report = fact_sales.alias(\"f\") \\\n",
        "    .join(dim_store.alias(\"s\"), \"store_id\") \\\n",
        "    .groupBy(\"s.store_name\", \"s.store_city\", \"s.store_country\") \\\n",
        "    .agg(\n",
        "        sum(\"f.total_price\").alias(\"total_revenue\"),\n",
        "        count(\"*\").alias(\"orders_count\"),\n",
        "        avg(\"f.total_price\").alias(\"avg_order_value\")\n",
        "    )\n",
        "print(\"\u0426\u0435\u043b\u044c: \u0410\u043d\u0430\u043b\u0438\u0437 \u044d\u0444\u0444\u0435\u043a\u0442\u0438\u0432\u043d\u043e\u0441\u0442\u0438 \u043c\u0430\u0433\u0430\u0437\u0438\u043d\u043e\u0432.\")\n",
        "store_report.show(5)"
      ],
      "outputs": [
        {
          "name": "stdout",
          "output_type": "stream",
          "text": [
            "\n",
            "===> \u0412\u0438\u0442\u0440\u0438\u043d\u0430 \u043f\u0440\u043e\u0434\u0430\u0436 \u043f\u043e \u043c\u0430\u0433\u0430\u0437\u0438\u043d\u0430\u043c:\n",
            "\u0426\u0435\u043b\u044c: \u0410\u043d\u0430\u043b\u0438\u0437 \u044d\u0444\u0444\u0435\u043a\u0442\u0438\u0432\u043d\u043e\u0441\u0442\u0438 \u043c\u0430\u0433\u0430\u0437\u0438\u043d\u043e\u0432.\n",
            "+------------+-----------------+-------------+--------------------+------------+--------------------+\n",
            "|  store_name|       store_city|store_country|       total_revenue|orders_count|     avg_order_value|\n",
            "+------------+-----------------+-------------+--------------------+------------+--------------------+\n",
            "|Shuffledrive|Banjar Taro Kelod|        China|30.41000000000000...|           1|30.41000000000000...|\n",
            "|    Centidel|     Donggaohuang|       France|294.5300000000000...|           1|294.5300000000000...|\n",
            "|       Eabox|         Ureshino|       Angola|428.0000000000000...|           1|428.0000000000000...|\n",
            "|    Livepath|          Haljala|       Greece|288.5100000000000...|           1|288.5100000000000...|\n",
            "|       Lazzy|          Mas\u0101kin|     Pakistan|138.3900000000000...|           1|138.3900000000000...|\n",
            "+------------+-----------------+-------------+--------------------+------------+--------------------+\n",
            "only showing top 5 rows\n",
            "\n"
          ]
        }
      ],
      "execution_count": 13
    },
    {
      "cell_type": "code",
      "metadata": {
        "jukit_cell_id": "xDDbJTceOq"
      },
      "source": [
        "print(\"\\n\\t \u0422\u041e\u041f-5 \u043c\u0430\u0433\u0430\u0437\u0438\u043d\u043e\u0432 \u0441 \u043d\u0430\u0438\u0431\u043e\u043b\u044c\u0448\u0435\u0439 \u0432\u044b\u0440\u0443\u0447\u043a\u043e\u0439:\")\n",
        "top_stores = store_report.orderBy(desc(\"total_revenue\")).limit(5)\n",
        "top_stores.show()"
      ],
      "outputs": [
        {
          "name": "stdout",
          "output_type": "stream",
          "text": [
            "\n",
            "===> \u0422\u041e\u041f-5 \u043c\u0430\u0433\u0430\u0437\u0438\u043d\u043e\u0432 \u0441 \u043d\u0430\u0438\u0431\u043e\u043b\u044c\u0448\u0435\u0439 \u0432\u044b\u0440\u0443\u0447\u043a\u043e\u0439:\n",
            "+------------+-------------------+-------------+--------------------+------------+--------------------+\n",
            "|  store_name|         store_city|store_country|       total_revenue|orders_count|     avg_order_value|\n",
            "+------------+-------------------+-------------+--------------------+------------+--------------------+\n",
            "|    Feedspan|             Monywa|      Ukraine|1317.200000000000...|           3|439.0666666666666...|\n",
            "|      Demizz|              Ranot|       Mexico|1212.270000000000...|           4|303.0675000000000...|\n",
            "|       Quatz|            Kasungu|    Indonesia|1197.640000000000...|           5|239.5280000000000...|\n",
            "|     Rhycero|Saint-Jean-de-Braye|       Poland|1069.750000000000...|           3|356.5833333333333...|\n",
            "|Twitterworks|             Iecava|    Argentina|1005.190000000000...|           3|335.0633333333333...|\n",
            "+------------+-------------------+-------------+--------------------+------------+--------------------+\n",
            "\n"
          ]
        }
      ],
      "execution_count": 14
    },
    {
      "cell_type": "code",
      "metadata": {
        "jukit_cell_id": "bS5jCPJ6wp"
      },
      "source": [
        "print(\"\\n\\t \u0420\u0430\u0441\u043f\u0440\u0435\u0434\u0435\u043b\u0435\u043d\u0438\u0435 \u043f\u0440\u043e\u0434\u0430\u0436 \u043f\u043e \u0433\u043e\u0440\u043e\u0434\u0430\u043c \u0438 \u0441\u0442\u0440\u0430\u043d\u0430\u043c:\")\n",
        "store_distribution = store_report.groupBy(\"store_city\", \"store_country\").agg(sum(\"total_revenue\").alias(\"total_revenue\"))\n",
        "store_distribution.show()"
      ],
      "outputs": [
        {
          "name": "stdout",
          "output_type": "stream",
          "text": [
            "\n",
            "===> \u0420\u0430\u0441\u043f\u0440\u0435\u0434\u0435\u043b\u0435\u043d\u0438\u0435 \u043f\u0440\u043e\u0434\u0430\u0436 \u043f\u043e \u0433\u043e\u0440\u043e\u0434\u0430\u043c \u0438 \u0441\u0442\u0440\u0430\u043d\u0430\u043c:\n",
            "+-------------------+-------------+--------------------+\n",
            "|         store_city|store_country|       total_revenue|\n",
            "+-------------------+-------------+--------------------+\n",
            "|        Al Jubayhah|  Philippines|266.2700000000000...|\n",
            "|            Wangren|    Indonesia|481.2800000000000...|\n",
            "|       Kohtla-J\u00e4rve|        China|409.3000000000000...|\n",
            "|           Yanjiang|         Peru|177.9700000000000...|\n",
            "|            Baidian|      Finland|146.4900000000000...|\n",
            "|            Golacir|     Thailand|390.4600000000000...|\n",
            "|               Mary|        Spain|366.8500000000000...|\n",
            "|              Baras|     Thailand|122.0500000000000...|\n",
            "|             Dongpu|        China|493.1700000000000...|\n",
            "|         Champerico|     Portugal|487.9000000000000...|\n",
            "|           Nanggela|     Thailand|322.3300000000000...|\n",
            "|             Linshi|United States|56.76000000000000...|\n",
            "|            Kherson|       Sweden|495.9400000000000...|\n",
            "|            Xundian|     Colombia|333.5100000000000...|\n",
            "|       Tytuv\u0117n\u0117liai|        China|233.9300000000000...|\n",
            "|               Caen|       Canada|476.1400000000000...|\n",
            "|Costa de Rios Frios|        Japan|390.1000000000000...|\n",
            "|         Tolotangga|        China|45.53000000000000...|\n",
            "|            Gagarin|  Afghanistan|131.3400000000000...|\n",
            "|    Lazaro Cardenas|     Portugal|228.4400000000000...|\n",
            "+-------------------+-------------+--------------------+\n",
            "only showing top 20 rows\n",
            "\n"
          ]
        }
      ],
      "execution_count": 15
    },
    {
      "cell_type": "code",
      "metadata": {
        "jukit_cell_id": "fpPCYC7YTh"
      },
      "source": [
        "print(\"\\n\\t \u0421\u0440\u0435\u0434\u043d\u0438\u0439 \u0447\u0435\u043a \u0434\u043b\u044f \u043a\u0430\u0436\u0434\u043e\u0433\u043e \u043c\u0430\u0433\u0430\u0437\u0438\u043d\u0430:\")\n",
        "avg_check_per_store = store_report.select(\"store_name\", \"avg_order_value\")\n",
        "avg_check_per_store.show()"
      ],
      "outputs": [
        {
          "name": "stdout",
          "output_type": "stream",
          "text": [
            "\n",
            "===> \u0421\u0440\u0435\u0434\u043d\u0438\u0439 \u0447\u0435\u043a \u0434\u043b\u044f \u043a\u0430\u0436\u0434\u043e\u0433\u043e \u043c\u0430\u0433\u0430\u0437\u0438\u043d\u0430:\n",
            "+-------------+--------------------+\n",
            "|   store_name|     avg_order_value|\n",
            "+-------------+--------------------+\n",
            "| Shuffledrive|30.41000000000000...|\n",
            "|     Centidel|294.5300000000000...|\n",
            "|        Eabox|428.0000000000000...|\n",
            "|     Livepath|288.5100000000000...|\n",
            "|        Lazzy|138.3900000000000...|\n",
            "|        Quinu|56.21000000000000...|\n",
            "|     Flashdog|331.7100000000000...|\n",
            "|         Yodo|340.0800000000000...|\n",
            "|        Quatz|129.0500000000000...|\n",
            "|        Janyx|353.7600000000000...|\n",
            "|    Topicblab|366.1400000000000...|\n",
            "|        Kimia|69.25000000000000...|\n",
            "|       Wikivu|198.6100000000000...|\n",
            "|      Teklist|159.1000000000000...|\n",
            "|       Meedoo|425.1800000000000...|\n",
            "|        Aimbo|296.9000000000000...|\n",
            "|        Voomm|186.9700000000000...|\n",
            "|        Janyx|58.69000000000000...|\n",
            "|       Wikivu|365.6000000000000...|\n",
            "|Thoughtsphere|84.54000000000000...|\n",
            "+-------------+--------------------+\n",
            "only showing top 20 rows\n",
            "\n"
          ]
        }
      ],
      "execution_count": 16
    },
    {
      "cell_type": "code",
      "metadata": {
        "jukit_cell_id": "fT15elsa9J"
      },
      "source": [
        "print(\"\\n\\t \u0412\u0438\u0442\u0440\u0438\u043d\u0430 \u043f\u0440\u043e\u0434\u0430\u0436 \u043f\u043e \u043f\u043e\u0441\u0442\u0430\u0432\u0449\u0438\u043a\u0430\u043c:\")\n",
        "supplier_report = fact_sales.alias(\"f\") \\\n",
        "    .join(dim_supplier.alias(\"sup\"), \"supplier_id\") \\\n",
        "    .groupBy(\"sup.supplier_name\", \"sup.supplier_country\") \\\n",
        "    .agg(\n",
        "        sum(\"f.total_price\").alias(\"total_revenue\"),\n",
        "        avg(\"f.total_price\").alias(\"avg_product_price\")\n",
        "    )\n",
        "print(\"\u0426\u0435\u043b\u044c: \u0410\u043d\u0430\u043b\u0438\u0437 \u044d\u0444\u0444\u0435\u043a\u0442\u0438\u0432\u043d\u043e\u0441\u0442\u0438 \u043f\u043e\u0441\u0442\u0430\u0432\u0449\u0438\u043a\u043e\u0432.\")\n",
        "supplier_report.show(5)"
      ],
      "outputs": [
        {
          "name": "stdout",
          "output_type": "stream",
          "text": [
            "\n",
            "===> \u0412\u0438\u0442\u0440\u0438\u043d\u0430 \u043f\u0440\u043e\u0434\u0430\u0436 \u043f\u043e \u043f\u043e\u0441\u0442\u0430\u0432\u0449\u0438\u043a\u0430\u043c:\n",
            "\u0426\u0435\u043b\u044c: \u0410\u043d\u0430\u043b\u0438\u0437 \u044d\u0444\u0444\u0435\u043a\u0442\u0438\u0432\u043d\u043e\u0441\u0442\u0438 \u043f\u043e\u0441\u0442\u0430\u0432\u0449\u0438\u043a\u043e\u0432.\n",
            "+-------------+----------------+--------------------+--------------------+\n",
            "|supplier_name|supplier_country|       total_revenue|   avg_product_price|\n",
            "+-------------+----------------+--------------------+--------------------+\n",
            "|   Zoomlounge|           China|220.9000000000000...|220.9000000000000...|\n",
            "|        InnoZ|        Colombia|123.5200000000000...|123.5200000000000...|\n",
            "|     Realfire|           Japan|1043.170000000000...|347.7233333333333...|\n",
            "|     Topdrive|          Sweden|2334.640000000000...|291.8300000000000...|\n",
            "|        Rooxo|        Pakistan|1419.670000000000...|473.2233333333333...|\n",
            "+-------------+----------------+--------------------+--------------------+\n",
            "only showing top 5 rows\n",
            "\n"
          ]
        }
      ],
      "execution_count": 17
    },
    {
      "cell_type": "code",
      "metadata": {
        "jukit_cell_id": "SVY3xV5x3B"
      },
      "source": [
        "print(\"\\n\\t \u0422\u041e\u041f-5 \u043f\u043e\u0441\u0442\u0430\u0432\u0449\u0438\u043a\u043e\u0432 \u0441 \u043d\u0430\u0438\u0431\u043e\u043b\u044c\u0448\u0435\u0439 \u0432\u044b\u0440\u0443\u0447\u043a\u043e\u0439:\")\n",
        "top_suppliers = supplier_report.orderBy(desc(\"total_revenue\")).limit(5)\n",
        "top_suppliers.show()"
      ],
      "outputs": [
        {
          "name": "stdout",
          "output_type": "stream",
          "text": [
            "\n",
            "===> \u0422\u041e\u041f-5 \u043f\u043e\u0441\u0442\u0430\u0432\u0449\u0438\u043a\u043e\u0432 \u0441 \u043d\u0430\u0438\u0431\u043e\u043b\u044c\u0448\u0435\u0439 \u0432\u044b\u0440\u0443\u0447\u043a\u043e\u0439:\n",
            "+-------------+----------------+--------------------+--------------------+\n",
            "|supplier_name|supplier_country|       total_revenue|   avg_product_price|\n",
            "+-------------+----------------+--------------------+--------------------+\n",
            "|        Twimm|    Burkina Faso|4955.940000000000...|353.9957142857142...|\n",
            "|       Trudeo|         Morocco|3944.050000000000...|262.9366666666666...|\n",
            "|  Brainlounge|          Panama|3684.540000000000...|263.1814285714285...|\n",
            "|      Myworks|         Nigeria|3642.770000000000...|331.1609090909090...|\n",
            "|        Vidoo|      Bangladesh|3336.920000000000...|303.3563636363636...|\n",
            "+-------------+----------------+--------------------+--------------------+\n",
            "\n"
          ]
        }
      ],
      "execution_count": 18
    },
    {
      "cell_type": "code",
      "metadata": {
        "jukit_cell_id": "bMDWzQYLqX"
      },
      "source": [
        "print(\"\\n\\t \u0421\u0440\u0435\u0434\u043d\u044f\u044f \u0446\u0435\u043d\u0430 \u0442\u043e\u0432\u0430\u0440\u043e\u0432 \u043e\u0442 \u043a\u0430\u0436\u0434\u043e\u0433\u043e \u043f\u043e\u0441\u0442\u0430\u0432\u0449\u0438\u043a\u0430:\")\n",
        "avg_price_per_supplier = supplier_report.select(\"supplier_name\", \"avg_product_price\")\n",
        "avg_price_per_supplier.show()"
      ],
      "outputs": [
        {
          "name": "stdout",
          "output_type": "stream",
          "text": [
            "\n",
            "===> \u0421\u0440\u0435\u0434\u043d\u044f\u044f \u0446\u0435\u043d\u0430 \u0442\u043e\u0432\u0430\u0440\u043e\u0432 \u043e\u0442 \u043a\u0430\u0436\u0434\u043e\u0433\u043e \u043f\u043e\u0441\u0442\u0430\u0432\u0449\u0438\u043a\u0430:\n",
            "+-------------+--------------------+\n",
            "|supplier_name|   avg_product_price|\n",
            "+-------------+--------------------+\n",
            "|   Zoomlounge|220.9000000000000...|\n",
            "|        InnoZ|123.5200000000000...|\n",
            "|     Realfire|347.7233333333333...|\n",
            "|     Topdrive|291.8300000000000...|\n",
            "|        Rooxo|473.2233333333333...|\n",
            "|         Lajo|315.0100000000000...|\n",
            "|        Minyx|367.7800000000000...|\n",
            "|Twitternation|129.8400000000000...|\n",
            "|      Youspan|309.9733333333333...|\n",
            "|      Trilith|152.5500000000000...|\n",
            "|     Gigazoom|127.0600000000000...|\n",
            "|        Jazzy|123.0200000000000...|\n",
            "|  Twitterlist|78.78000000000000...|\n",
            "|         Kazu|488.9800000000000...|\n",
            "|     Edgeclub|285.5600000000000...|\n",
            "|    Zoonoodle|451.3100000000000...|\n",
            "|       Zoozzy|38.54000000000000...|\n",
            "|      Teklist|270.8200000000000...|\n",
            "|       Skivee|478.6000000000000...|\n",
            "|        Quaxo|367.4475000000000...|\n",
            "+-------------+--------------------+\n",
            "only showing top 20 rows\n",
            "\n"
          ]
        }
      ],
      "execution_count": 19
    },
    {
      "cell_type": "code",
      "metadata": {
        "jukit_cell_id": "VaTQr2bvwN"
      },
      "source": [
        "print(\"\\n\\t \u0420\u0430\u0441\u043f\u0440\u0435\u0434\u0435\u043b\u0435\u043d\u0438\u0435 \u043f\u0440\u043e\u0434\u0430\u0436 \u043f\u043e \u0441\u0442\u0440\u0430\u043d\u0430\u043c \u043f\u043e\u0441\u0442\u0430\u0432\u0449\u0438\u043a\u043e\u0432:\")\n",
        "supplier_distribution = supplier_report.groupBy(\"supplier_country\").agg(sum(\"total_revenue\").alias(\"total_revenue\"))\n",
        "supplier_distribution.show()"
      ],
      "outputs": [
        {
          "name": "stdout",
          "output_type": "stream",
          "text": [
            "\n",
            "===> \u0420\u0430\u0441\u043f\u0440\u0435\u0434\u0435\u043b\u0435\u043d\u0438\u0435 \u043f\u0440\u043e\u0434\u0430\u0436 \u043f\u043e \u0441\u0442\u0440\u0430\u043d\u0430\u043c \u043f\u043e\u0441\u0442\u0430\u0432\u0449\u0438\u043a\u043e\u0432:\n",
            "+--------------------+--------------------+\n",
            "|    supplier_country|       total_revenue|\n",
            "+--------------------+--------------------+\n",
            "|                Chad|2078.750000000000...|\n",
            "|              Russia|127983.9000000000...|\n",
            "|            Paraguay|4269.170000000000...|\n",
            "|               Yemen|14436.57000000000...|\n",
            "|             Senegal|3749.030000000000...|\n",
            "|              Sweden|72716.27000000000...|\n",
            "|             Tokelau|461.8200000000000...|\n",
            "|            Kiribati|63.29000000000000...|\n",
            "|French Southern T...|217.3000000000000...|\n",
            "|              Guyana|937.5700000000000...|\n",
            "|         Philippines|117536.9700000000...|\n",
            "|             Eritrea|694.4000000000000...|\n",
            "|               Tonga|1206.200000000000...|\n",
            "|            Djibouti|440.6100000000000...|\n",
            "|            Malaysia|23199.83000000000...|\n",
            "|                Fiji|231.8700000000000...|\n",
            "|              Turkey|418.4100000000000...|\n",
            "|              Malawi|4294.810000000000...|\n",
            "|                Iraq|4356.830000000000...|\n",
            "|             Germany|12954.25000000000...|\n",
            "+--------------------+--------------------+\n",
            "only showing top 20 rows\n",
            "\n"
          ]
        }
      ],
      "execution_count": 20
    },
    {
      "cell_type": "code",
      "metadata": {
        "jukit_cell_id": "JpTIDYNpDX"
      },
      "source": [
        "print(\"\\n\\t \u0412\u0438\u0442\u0440\u0438\u043d\u0430 \u043a\u0430\u0447\u0435\u0441\u0442\u0432\u0430 \u043f\u0440\u043e\u0434\u0443\u043a\u0446\u0438\u0438:\")\n",
        "quality_report = dim_product.groupBy(\"product_category\") \\\n",
        "    .agg(\n",
        "        avg(\"product_rating\").alias(\"avg_category_rating\"),\n",
        "        sum(\"product_reviews\").alias(\"total_category_reviews\")\n",
        "    )\n",
        "print(\"\u0426\u0435\u043b\u044c: \u0410\u043d\u0430\u043b\u0438\u0437 \u043e\u0442\u0437\u044b\u0432\u043e\u0432 \u0438 \u0440\u0435\u0439\u0442\u0438\u043d\u0433\u043e\u0432 \u0442\u043e\u0432\u0430\u0440\u043e\u0432.\")\n",
        "quality_report.show(5)"
      ],
      "outputs": [
        {
          "name": "stdout",
          "output_type": "stream",
          "text": [
            "\n",
            "===> \u0412\u0438\u0442\u0440\u0438\u043d\u0430 \u043a\u0430\u0447\u0435\u0441\u0442\u0432\u0430 \u043f\u0440\u043e\u0434\u0443\u043a\u0446\u0438\u0438:\n",
            "\u0426\u0435\u043b\u044c: \u0410\u043d\u0430\u043b\u0438\u0437 \u043e\u0442\u0437\u044b\u0432\u043e\u0432 \u0438 \u0440\u0435\u0439\u0442\u0438\u043d\u0433\u043e\u0432 \u0442\u043e\u0432\u0430\u0440\u043e\u0432.\n",
            "+----------------+--------------------+----------------------+\n",
            "|product_category| avg_category_rating|total_category_reviews|\n",
            "+----------------+--------------------+----------------------+\n",
            "|            Cage|3.057611940298507...|                159754|\n",
            "|            Food|2.993636363636363...|                170219|\n",
            "|             Toy|3.077611940298507...|                167738|\n",
            "+----------------+--------------------+----------------------+\n",
            "\n"
          ]
        }
      ],
      "execution_count": 21
    },
    {
      "cell_type": "code",
      "metadata": {
        "jukit_cell_id": "Tf6Czw0VXn"
      },
      "source": [
        "print(\"\\n\\t \u041f\u0440\u043e\u0434\u0443\u043a\u0442\u044b \u0441 \u043d\u0430\u0438\u0432\u044b\u0441\u0448\u0438\u043c \u0438 \u043d\u0430\u0438\u043c\u0435\u043d\u044c\u0448\u0438\u043c \u0440\u0435\u0439\u0442\u0438\u043d\u0433\u043e\u043c:\")\n",
        "highest_lowest_ratings = dim_product.sort(desc(\"product_rating\")).limit(5)\n",
        "highest_lowest_ratings.show()"
      ],
      "outputs": [
        {
          "name": "stdout",
          "output_type": "stream",
          "text": [
            "\n",
            "===> \u041f\u0440\u043e\u0434\u0443\u043a\u0442\u044b \u0441 \u043d\u0430\u0438\u0432\u044b\u0441\u0448\u0438\u043c \u0438 \u043d\u0430\u0438\u043c\u0435\u043d\u044c\u0448\u0438\u043c \u0440\u0435\u0439\u0442\u0438\u043d\u0433\u043e\u043c:\n",
            "+----------+------------+----------------+--------------------+--------------------+-------------+------------+-------------+----------------+--------------------+--------------------+---------------+--------------------+-------------------+\n",
            "|product_id|product_name|product_category|       product_price|      product_weight|product_color|product_size|product_brand|product_material| product_description|      product_rating|product_reviews|product_release_date|product_expiry_date|\n",
            "+----------+------------+----------------+--------------------+--------------------+-------------+------------+-------------+----------------+--------------------+--------------------+---------------+--------------------+-------------------+\n",
            "|       182|    Dog Food|             Toy|57.85000000000000...|18.40000000000000...|       Purple|       Small|     Tanoodle|           Brass|Praesent blandit....|5.000000000000000000|             24|          2019-04-08|         2026-08-31|\n",
            "|       851|   Bird Cage|             Toy|10.61000000000000...|29.60000000000000...|       Orange|       Large|      Bluejam|          Rubber|Suspendisse poten...|5.000000000000000000|            537|          2017-05-22|         2028-05-05|\n",
            "|       607|    Dog Food|            Cage|64.46000000000000...|18.20000000000000...|          Red|      Medium|       Skimia|      Plexiglass|Fusce consequat. ...|5.000000000000000000|             48|          2017-07-01|         2024-09-02|\n",
            "|        91|    Dog Food|             Toy|32.84000000000000...|49.60000000000000...|          Red|       Small|       Skyndu|          Rubber|Aenean lectus. Pe...|5.000000000000000000|            328|          2020-05-04|         2024-10-09|\n",
            "|       622|     Cat Toy|             Toy|37.62000000000000...|24.00000000000000...|         Puce|       Large|        Zazio|           Stone|Cras non velit ne...|5.000000000000000000|            512|          2018-06-15|         2026-02-02|\n",
            "+----------+------------+----------------+--------------------+--------------------+-------------+------------+-------------+----------------+--------------------+--------------------+---------------+--------------------+-------------------+\n",
            "\n"
          ]
        }
      ],
      "execution_count": 22
    },
    {
      "cell_type": "code",
      "metadata": {
        "jukit_cell_id": "zc13jgax0R"
      },
      "source": [
        "print(\"\\n\\t \u041a\u043e\u0440\u0440\u0435\u043b\u044f\u0446\u0438\u044f \u043c\u0435\u0436\u0434\u0443 \u0440\u0435\u0439\u0442\u0438\u043d\u0433\u043e\u043c \u0438 \u043e\u0431\u044a\u0435\u043c\u043e\u043c \u043f\u0440\u043e\u0434\u0430\u0436:\")\n",
        "correlation = dim_product.corr(\"product_rating\", \"product_reviews\")\n",
        "print(f\"\u041a\u043e\u0440\u0440\u0435\u043b\u044f\u0446\u0438\u044f \u0440\u0435\u0439\u0442\u0438\u043d\u0433\u0430 \u0438 \u043a\u043e\u043b\u0438\u0447\u0435\u0441\u0442\u0432\u0430 \u043e\u0442\u0437\u044b\u0432\u043e\u0432: {correlation:.3f}\")"
      ],
      "outputs": [
        {
          "name": "stdout",
          "output_type": "stream",
          "text": [
            "\n",
            "===> \u041a\u043e\u0440\u0440\u0435\u043b\u044f\u0446\u0438\u044f \u043c\u0435\u0436\u0434\u0443 \u0440\u0435\u0439\u0442\u0438\u043d\u0433\u043e\u043c \u0438 \u043e\u0431\u044a\u0435\u043c\u043e\u043c \u043f\u0440\u043e\u0434\u0430\u0436:\n",
            "\u041a\u043e\u0440\u0440\u0435\u043b\u044f\u0446\u0438\u044f \u0440\u0435\u0439\u0442\u0438\u043d\u0433\u0430 \u0438 \u043a\u043e\u043b\u0438\u0447\u0435\u0441\u0442\u0432\u0430 \u043e\u0442\u0437\u044b\u0432\u043e\u0432: 0.012\n"
          ]
        }
      ],
      "execution_count": 23
    },
    {
      "cell_type": "code",
      "metadata": {
        "jukit_cell_id": "qTPiSFCZ4c"
      },
      "source": [
        "print(\"\\n\\t \u041f\u0440\u043e\u0434\u0443\u043a\u0442\u044b \u0441 \u043d\u0430\u0438\u0431\u043e\u043b\u044c\u0448\u0438\u043c \u043a\u043e\u043b\u0438\u0447\u0435\u0441\u0442\u0432\u043e\u043c \u043e\u0442\u0437\u044b\u0432\u043e\u0432:\")\n",
        "most_reviewed_products = dim_product.orderBy(desc(\"product_reviews\")).limit(5)\n",
        "most_reviewed_products.show()"
      ],
      "outputs": [
        {
          "name": "stdout",
          "output_type": "stream",
          "text": [
            "\n",
            "===> \u041f\u0440\u043e\u0434\u0443\u043a\u0442\u044b \u0441 \u043d\u0430\u0438\u0431\u043e\u043b\u044c\u0448\u0438\u043c \u043a\u043e\u043b\u0438\u0447\u0435\u0441\u0442\u0432\u043e\u043c \u043e\u0442\u0437\u044b\u0432\u043e\u0432:\n",
            "+----------+------------+----------------+--------------------+--------------------+-------------+------------+-------------+----------------+--------------------+--------------------+---------------+--------------------+-------------------+\n",
            "|product_id|product_name|product_category|       product_price|      product_weight|product_color|product_size|product_brand|product_material| product_description|      product_rating|product_reviews|product_release_date|product_expiry_date|\n",
            "+----------+------------+----------------+--------------------+--------------------+-------------+------------+-------------+----------------+--------------------+--------------------+---------------+--------------------+-------------------+\n",
            "|       732|   Bird Cage|            Food|55.84000000000000...|25.40000000000000...|       Orange|      Medium|       Rhyloo|         Granite|Nulla ut erat id ...|4.000000000000000000|           1000|          2014-10-18|         2030-07-03|\n",
            "|       874|    Dog Food|            Food|44.90000000000000...|49.10000000000000...|       Purple|       Small|     Gigaclub|           Steel|Maecenas leo odio...|1.700000000000000000|           1000|          2017-12-09|         2028-06-29|\n",
            "|       464|   Bird Cage|            Food|77.00000000000000...|33.50000000000000...|       Yellow|      Medium|       Tambee|           Stone|Suspendisse poten...|1.700000000000000000|            999|          2017-01-20|         2024-12-27|\n",
            "|       179|    Dog Food|            Food|54.71000000000000...|7.900000000000000000|       Purple|       Small|        Kwinu|         Granite|Morbi porttitor l...|1.800000000000000000|            998|          2021-08-08|         2026-06-17|\n",
            "|       541|     Cat Toy|             Toy|75.74000000000000...|1.900000000000000000|       Purple|      Medium|      Camimbo|          Rubber|Sed sagittis. Nam...|3.800000000000000000|            996|          2016-12-29|         2028-08-15|\n",
            "+----------+------------+----------------+--------------------+--------------------+-------------+------------+-------------+----------------+--------------------+--------------------+---------------+--------------------+-------------------+\n",
            "\n"
          ]
        }
      ],
      "execution_count": 24
    },
    {
      "cell_type": "code",
      "metadata": {
        "jukit_cell_id": "3dcQrzO4Z9"
      },
      "source": [
        "reports = {\n",
        "    \"product_sales_mart\": product_report,\n",
        "    \"top_products\": top_products,\n",
        "    \"time_sales_mart\": time_report,\n",
        "    \"customer_sales_mart\": customer_report,\n",
        "    \"store_sales_mart\": store_report,\n",
        "    \"supplier_sales_mart\": supplier_report,\n",
        "    \"product_quality_mart\": quality_report\n",
        "}"
      ],
      "outputs": [],
      "execution_count": null
    },
    {
      "cell_type": "code",
      "metadata": {
        "jukit_cell_id": "6GDfKD4RTa"
      },
      "source": [
        "for table_name, df in reports.items():\n",
        "    engine = \"MergeTree() ORDER BY tuple()\"\n",
        "    \n",
        "    if table_name in [\"product_quality_mart\"]:\n",
        "        engine = \"TinyLog()\"\n",
        "    \n",
        "    df.write \\\n",
        "        .format(\"jdbc\") \\\n",
        "        .option(\"url\", clickhouse_url) \\\n",
        "        .option(\"dbtable\", table_name) \\\n",
        "        .option(\"driver\", \"com.clickhouse.jdbc.ClickHouseDriver\") \\\n",
        "        .option(\"createTableOptions\", f\"ENGINE = {engine}\") \\\n",
        "        .mode(\"overwrite\") \\\n",
        "        .save()"
      ],
      "outputs": [],
      "execution_count": null
    }
  ],
  "metadata": {
    "anaconda-cloud": {},
    "kernelspec": {
      "display_name": "python",
      "language": "python",
      "name": "python3"
    }
  },
  "nbformat": 4,
  "nbformat_minor": 4
}